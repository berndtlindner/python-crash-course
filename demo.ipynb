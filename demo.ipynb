{
 "cells": [
  {
   "cell_type": "markdown",
   "metadata": {},
   "source": [
    "# Shane's Python Crash Course:"
   ]
  },
  {
   "cell_type": "markdown",
   "metadata": {},
   "source": [
    "## Table of Contents:\n",
    "\n",
    "* [Basic operators](#1)\n",
    "    * [1.1 - Print statement](#1.1)\n",
    "    * [1.2 - Arithmetic operators](#1.2)\n",
    "    * [1.3 - Comparison operators](#1.3)\n",
    "    * [1.4 - Assignment operators](#1.4)\n",
    "    * [1.5 - Logical operators](#1.5)\n",
    "    * [1.6 - Membership operators](#1.6)\n",
    "    * [1.7 - Identity operators](#1.7)\n",
    "\n",
    "\n",
    "* [2 - Data structures](#2)\n",
    "    * [2.1 - Lists](#2.1)\n",
    "    * [2.2 - Tuples](#2.2)\n",
    "    * [2.3 - Strings](#2.3)\n",
    "    * [2.4 - Dictionaries](#2.4)\n",
    "\n",
    "\n",
    " * [3 - Control structures](#3)\n",
    "    * [3.1 - If else](#3.1)\n",
    "    * [3.2 - For loop](#3.2)\n",
    "    * [3.3 - While loop](#3.3)\n",
    "    * [3.4 - Loop control statements](#3.4)\n",
    "    * [3.5 - Try except](#3.5)\n",
    "\n",
    "\n",
    " * [4 - Object-oriented programming](#4)\n",
    "    * [4.1 - Functions](#4.1)\n",
    "    * [4.2 - Classes](#4.2)\n",
    "    * [4.2 - Methods](#4.3)\n",
    "    * [4.2 - Modules](#4.4)\n",
    "\n",
    "\n",
    " * [5 - Online resources](#5)"
   ]
  },
  {
   "cell_type": "markdown",
   "metadata": {},
   "source": [
    "<a id='1'></a>\n",
    "## 1 - Basic operators:"
   ]
  },
  {
   "cell_type": "markdown",
   "metadata": {},
   "source": [
    "<a id='1.1'></a>\n",
    "### 1.1 - Print statement:"
   ]
  },
  {
   "cell_type": "code",
   "execution_count": 1,
   "metadata": {},
   "outputs": [
    {
     "name": "stdout",
     "output_type": "stream",
     "text": [
      "Hello world!\n"
     ]
    }
   ],
   "source": [
    "print('Hello world!')"
   ]
  },
  {
   "cell_type": "markdown",
   "metadata": {},
   "source": [
    "<a id='1.2'></a>\n",
    "### 1.2 - Arithmetic operators:"
   ]
  },
  {
   "cell_type": "code",
   "execution_count": 2,
   "metadata": {},
   "outputs": [
    {
     "name": "stdout",
     "output_type": "stream",
     "text": [
      "Addition: 9\n",
      "Subtraction: 5\n",
      "Multiplication: 14\n",
      "Division: 3.5\n",
      "Exponent: 49\n",
      "Floor division: 3\n",
      "Modulus: 1\n"
     ]
    }
   ],
   "source": [
    "print('Addition:', 7 + 2)\n",
    "print('Subtraction:', 7 - 2)\n",
    "print('Multiplication:', 7 * 2)\n",
    "print('Division:', 7 / 2)\n",
    "print('Exponent:', 7 ** 2)\n",
    "print('Floor division:', 7 // 2)\n",
    "print('Modulus:', 7 % 2)"
   ]
  },
  {
   "cell_type": "markdown",
   "metadata": {},
   "source": [
    "<a id='1.3'></a>\n",
    "### 1.3 - Comparison operators:"
   ]
  },
  {
   "cell_type": "code",
   "execution_count": 3,
   "metadata": {},
   "outputs": [
    {
     "name": "stdout",
     "output_type": "stream",
     "text": [
      "a equals b: False\n",
      "a not equal to b: True\n",
      "a greater than b: False\n",
      "a less than b: True\n",
      "a greater than or equal to b: False\n",
      "a less than b or equal to b: True\n"
     ]
    }
   ],
   "source": [
    "a = 10\n",
    "b = 20\n",
    "\n",
    "print('a equals b:', a == b)\n",
    "print('a not equal to b:', a != b)\n",
    "print('a greater than b:', a > b)\n",
    "print('a less than b:', a < b)\n",
    "print('a greater than or equal to b:', a >= b)\n",
    "print('a less than b or equal to b:', a <= b)"
   ]
  },
  {
   "cell_type": "markdown",
   "metadata": {},
   "source": [
    "<a id='1.4'></a>\n",
    "### 1.4 - Assignment operators:"
   ]
  },
  {
   "cell_type": "code",
   "execution_count": 4,
   "metadata": {},
   "outputs": [
    {
     "name": "stdout",
     "output_type": "stream",
     "text": [
      "Value of c: 30\n",
      "Value of c: 40\n",
      "Value of c: 20\n",
      "Value of c: 60\n",
      "Value of c: 30.0\n",
      "Value of c: 2.0\n",
      "Value of c: 16.0\n",
      "Value of c: 5.0\n"
     ]
    }
   ],
   "source": [
    "a = 10\n",
    "b = 20\n",
    "\n",
    "c = a + b\n",
    "print('Value of c:', c)\n",
    "c += 10\n",
    "print('Value of c:', c)\n",
    "c -= 20\n",
    "print('Value of c:', c)\n",
    "c *= 3\n",
    "print('Value of c:', c)\n",
    "c /= 2\n",
    "print('Value of c:', c)\n",
    "c %= 7\n",
    "print('Value of c:', c)\n",
    "c **= 4\n",
    "print('Value of c:', c)\n",
    "c //= 3\n",
    "print('Value of c:', c)"
   ]
  },
  {
   "cell_type": "markdown",
   "metadata": {},
   "source": [
    "<a id='1.5'></a>\n",
    "### 1.5 - Logical operators:"
   ]
  },
  {
   "cell_type": "code",
   "execution_count": 5,
   "metadata": {},
   "outputs": [
    {
     "name": "stdout",
     "output_type": "stream",
     "text": [
      "a AND b: False\n",
      "a OR b: True\n",
      "NOT b True\n"
     ]
    }
   ],
   "source": [
    "a = True\n",
    "b = False\n",
    "\n",
    "print('a AND b:', a and b)\n",
    "print('a OR b:', a or b)\n",
    "print('NOT b', not b)"
   ]
  },
  {
   "cell_type": "markdown",
   "metadata": {},
   "source": [
    "<a id='1.6'></a>\n",
    "### 1.6 - Membership operators:"
   ]
  },
  {
   "cell_type": "code",
   "execution_count": 6,
   "metadata": {},
   "outputs": [
    {
     "name": "stdout",
     "output_type": "stream",
     "text": [
      "a IN list: True\n",
      "a NOT IN list: False\n"
     ]
    }
   ],
   "source": [
    "a = 3\n",
    "list = [1, 2, 3, 4, 5]\n",
    "\n",
    "print('a IN list:', a in list)\n",
    "print('a NOT IN list:', a not in list)"
   ]
  },
  {
   "cell_type": "markdown",
   "metadata": {},
   "source": [
    "<a id='1.7'></a>\n",
    "### 1.7 - Identity operators:"
   ]
  },
  {
   "cell_type": "code",
   "execution_count": 7,
   "metadata": {},
   "outputs": [
    {
     "name": "stdout",
     "output_type": "stream",
     "text": [
      "a IS b: False\n",
      "a IS NOT b: True\n"
     ]
    }
   ],
   "source": [
    "a = 'cat'\n",
    "b = 'dog'\n",
    "\n",
    "print('a IS b:', a is b)\n",
    "print('a IS NOT b:', a is not b)"
   ]
  },
  {
   "cell_type": "markdown",
   "metadata": {},
   "source": [
    "<a id='2'></a>\n",
    "## 2 - Data structures:"
   ]
  },
  {
   "cell_type": "markdown",
   "metadata": {},
   "source": [
    "<a id='2.1'></a>\n",
    "### 2.1 - Lists:"
   ]
  },
  {
   "cell_type": "markdown",
   "metadata": {},
   "source": [
    "#### 2.1.1 - List methods:"
   ]
  },
  {
   "cell_type": "code",
   "execution_count": 8,
   "metadata": {},
   "outputs": [
    {
     "name": "stdout",
     "output_type": "stream",
     "text": [
      "List methods: ['__add__', '__class__', '__contains__', '__delattr__', '__delitem__', '__dir__', '__doc__', '__eq__', '__format__', '__ge__', '__getattribute__', '__getitem__', '__gt__', '__hash__', '__iadd__', '__imul__', '__init__', '__init_subclass__', '__iter__', '__le__', '__len__', '__lt__', '__mul__', '__ne__', '__new__', '__reduce__', '__reduce_ex__', '__repr__', '__reversed__', '__rmul__', '__setattr__', '__setitem__', '__sizeof__', '__str__', '__subclasshook__', 'append', 'clear', 'copy', 'count', 'extend', 'index', 'insert', 'pop', 'remove', 'reverse', 'sort']\n"
     ]
    }
   ],
   "source": [
    "print('List methods:', dir(list))"
   ]
  },
  {
   "cell_type": "markdown",
   "metadata": {},
   "source": [
    "#### 2.1.2 - List operations:"
   ]
  },
  {
   "cell_type": "code",
   "execution_count": 9,
   "metadata": {},
   "outputs": [
    {
     "name": "stdout",
     "output_type": "stream",
     "text": [
      "I have 3 cats!\n",
      "Patrick is my favourite cat.\n",
      "True\n"
     ]
    }
   ],
   "source": [
    "cat_names = ['Cinnamon', 'Patrick', 'Maki']\n",
    "\n",
    "print('I have', len(cat_names), 'cats!')\n",
    "print(cat_names[1], 'is my favourite cat.')\n",
    "print('Maki' in cat_names)"
   ]
  },
  {
   "cell_type": "markdown",
   "metadata": {},
   "source": [
    "#### 2.1.3 - List functions:"
   ]
  },
  {
   "cell_type": "code",
   "execution_count": 10,
   "metadata": {
    "scrolled": true
   },
   "outputs": [
    {
     "name": "stdout",
     "output_type": "stream",
     "text": [
      "Minimum: 1\n",
      "Maximum: 21\n",
      "Count: 2\n",
      "List after insert: [1, 1, 2, 3, 'five', 8, 13, 21]\n",
      "List after append: [1, 1, 2, 3, 'five', 8, 13, 21, 34]\n",
      "List after extend: [1, 1, 2, 3, 'five', 8, 13, 21, 34, 55, 89, 144]\n",
      "List after reverse: [144, 89, 55, 34, 21, 13, 8, 'five', 3, 2, 1, 1]\n"
     ]
    }
   ],
   "source": [
    "my_list = [1, 1, 2, 3, 8, 13, 21]\n",
    "\n",
    "print('Minimum:', min(my_list))\n",
    "print('Maximum:', max(my_list))\n",
    "print('Count:', my_list.count(1))\n",
    "\n",
    "my_list.insert(4, 'five')\n",
    "print('List after insert:', my_list)\n",
    "my_list.append(34)\n",
    "print('List after append:', my_list)\n",
    "my_list.extend([55, 89, 144])\n",
    "print('List after extend:', my_list)\n",
    "my_list.reverse()\n",
    "print('List after reverse:', my_list)"
   ]
  },
  {
   "cell_type": "markdown",
   "metadata": {},
   "source": [
    "#### 2.1.4 - Remove vs delete vs pop:"
   ]
  },
  {
   "cell_type": "code",
   "execution_count": 11,
   "metadata": {
    "scrolled": true
   },
   "outputs": [
    {
     "name": "stdout",
     "output_type": "stream",
     "text": [
      "['Ryan', 'Hano', 'Mattie', 'Johan', 'Shane']\n",
      "['Ryan', 'Hano', 'Mattie', 'Johan']\n",
      "Mattie\n",
      "['Ryan', 'Hano', 'Johan']\n"
     ]
    }
   ],
   "source": [
    "a_side = ['Ryan', 'Hano', 'Stephan', 'Mattie', 'Johan', 'Shane']\n",
    "\n",
    "a_side.remove('Stephan')\n",
    "print(a_side)\n",
    "\n",
    "del a_side[-1]\n",
    "print(a_side)\n",
    "\n",
    "print(a_side.pop(2))\n",
    "print(a_side)"
   ]
  },
  {
   "cell_type": "markdown",
   "metadata": {},
   "source": [
    "<a id='2.2'></a>\n",
    "### 2.2 - Tuples:"
   ]
  },
  {
   "cell_type": "markdown",
   "metadata": {},
   "source": [
    "#### 2.2.1 - Tuple methods:"
   ]
  },
  {
   "cell_type": "code",
   "execution_count": 12,
   "metadata": {},
   "outputs": [
    {
     "name": "stdout",
     "output_type": "stream",
     "text": [
      "Tuple methods: ['__add__', '__class__', '__contains__', '__delattr__', '__dir__', '__doc__', '__eq__', '__format__', '__ge__', '__getattribute__', '__getitem__', '__getnewargs__', '__gt__', '__hash__', '__init__', '__init_subclass__', '__iter__', '__le__', '__len__', '__lt__', '__mul__', '__ne__', '__new__', '__reduce__', '__reduce_ex__', '__repr__', '__rmul__', '__setattr__', '__sizeof__', '__str__', '__subclasshook__', 'count', 'index']\n"
     ]
    }
   ],
   "source": [
    "print('Tuple methods:', dir(tuple))"
   ]
  },
  {
   "cell_type": "markdown",
   "metadata": {},
   "source": [
    "#### 2.2.2 - Lists vs tuples:"
   ]
  },
  {
   "cell_type": "code",
   "execution_count": 13,
   "metadata": {},
   "outputs": [
    {
     "name": "stdout",
     "output_type": "stream",
     "text": [
      "['Marno', 'Hano', 'Stephan', 'Mattie', 'Johan', 'Shane']\n"
     ]
    }
   ],
   "source": [
    "a_side_list = ['Ryan', 'Hano', 'Stephan', 'Mattie', 'Johan', 'Shane']\n",
    "\n",
    "a_side_list[0] = 'Marno'\n",
    "\n",
    "print(a_side_list)"
   ]
  },
  {
   "cell_type": "code",
   "execution_count": 14,
   "metadata": {},
   "outputs": [
    {
     "ename": "TypeError",
     "evalue": "'tuple' object does not support item assignment",
     "traceback": [
      "\u001b[1;31m---------------------------------------------------------------------------\u001b[0m",
      "\u001b[1;31mTypeError\u001b[0m                                 Traceback (most recent call last)",
      "\u001b[1;32m<ipython-input-14-299aa6091d39>\u001b[0m in \u001b[0;36m<module>\u001b[1;34m()\u001b[0m\n\u001b[0;32m      1\u001b[0m \u001b[0ma_side_tuple\u001b[0m \u001b[1;33m=\u001b[0m \u001b[1;33m(\u001b[0m\u001b[1;34m'Ryan'\u001b[0m\u001b[1;33m,\u001b[0m \u001b[1;34m'Hano'\u001b[0m\u001b[1;33m,\u001b[0m \u001b[1;34m'Stephan'\u001b[0m\u001b[1;33m,\u001b[0m \u001b[1;34m'Mattie'\u001b[0m\u001b[1;33m,\u001b[0m \u001b[1;34m'Johan'\u001b[0m\u001b[1;33m,\u001b[0m \u001b[1;34m'Shane'\u001b[0m\u001b[1;33m)\u001b[0m\u001b[1;33m\u001b[0m\u001b[0m\n\u001b[0;32m      2\u001b[0m \u001b[1;33m\u001b[0m\u001b[0m\n\u001b[1;32m----> 3\u001b[1;33m \u001b[0ma_side_tuple\u001b[0m\u001b[1;33m[\u001b[0m\u001b[1;36m0\u001b[0m\u001b[1;33m]\u001b[0m \u001b[1;33m=\u001b[0m \u001b[1;34m'Marno'\u001b[0m\u001b[1;33m\u001b[0m\u001b[0m\n\u001b[0m\u001b[0;32m      4\u001b[0m \u001b[1;33m\u001b[0m\u001b[0m\n\u001b[0;32m      5\u001b[0m \u001b[0mprint\u001b[0m\u001b[1;33m(\u001b[0m\u001b[0ma_side_tuple\u001b[0m\u001b[1;33m)\u001b[0m\u001b[1;33m\u001b[0m\u001b[0m\n",
      "\u001b[1;31mTypeError\u001b[0m: 'tuple' object does not support item assignment"
     ],
     "output_type": "error"
    }
   ],
   "source": [
    "a_side_tuple = ('Ryan', 'Hano', 'Stephan', 'Mattie', 'Johan', 'Shane')\n",
    "\n",
    "a_side_tuple[0] = 'Marno'\n",
    "\n",
    "print(a_side_tuple)"
   ]
  },
  {
   "cell_type": "markdown",
   "metadata": {},
   "source": [
    "<a id='2.3'></a>\n",
    "### 2.3 - Strings:"
   ]
  },
  {
   "cell_type": "markdown",
   "metadata": {},
   "source": [
    "#### 2.3.1 - String methods:"
   ]
  },
  {
   "cell_type": "code",
   "execution_count": 22,
   "metadata": {
    "scrolled": true
   },
   "outputs": [
    {
     "name": "stdout",
     "output_type": "stream",
     "text": [
      "String methods: ['__add__', '__class__', '__contains__', '__delattr__', '__dir__', '__doc__', '__eq__', '__format__', '__ge__', '__getattribute__', '__getitem__', '__getnewargs__', '__gt__', '__hash__', '__init__', '__init_subclass__', '__iter__', '__le__', '__len__', '__lt__', '__mod__', '__mul__', '__ne__', '__new__', '__reduce__', '__reduce_ex__', '__repr__', '__rmod__', '__rmul__', '__setattr__', '__sizeof__', '__str__', '__subclasshook__', 'capitalize', 'casefold', 'center', 'count', 'encode', 'endswith', 'expandtabs', 'find', 'format', 'format_map', 'index', 'isalnum', 'isalpha', 'isdecimal', 'isdigit', 'isidentifier', 'islower', 'isnumeric', 'isprintable', 'isspace', 'istitle', 'isupper', 'join', 'ljust', 'lower', 'lstrip', 'maketrans', 'partition', 'replace', 'rfind', 'rindex', 'rjust', 'rpartition', 'rsplit', 'rstrip', 'split', 'splitlines', 'startswith', 'strip', 'swapcase', 'title', 'translate', 'upper', 'zfill']\n"
     ]
    }
   ],
   "source": [
    "print('String methods:', dir(str))"
   ]
  },
  {
   "cell_type": "markdown",
   "metadata": {},
   "source": [
    "#### 2.3.2 - String formatting:"
   ]
  },
  {
   "cell_type": "code",
   "execution_count": 16,
   "metadata": {
    "scrolled": true
   },
   "outputs": [
    {
     "name": "stdout",
     "output_type": "stream",
     "text": [
      "Dr Danie Lotter is 31 years old!\n",
      "Dr Danie Lotter is 31 years old!\n",
      "Dr Danie Lotter is 31 years old!\n"
     ]
    }
   ],
   "source": [
    "first_name = 'Danie'\n",
    "last_name = 'Lotter'\n",
    "age = 31\n",
    "\n",
    "print('Dr ' + first_name + ' ' + last_name + ' is ' + str(age) + ' years old!')\n",
    "print('Dr %s %s is %d years old!' % (first_name, last_name, age))\n",
    "print('Dr {0} {1} is {2} years old!'.format(first_name, last_name, age))"
   ]
  },
  {
   "cell_type": "markdown",
   "metadata": {},
   "source": [
    "#### 2.3.3 - String escape characters:"
   ]
  },
  {
   "cell_type": "code",
   "execution_count": 17,
   "metadata": {},
   "outputs": [
    {
     "name": "stdout",
     "output_type": "stream",
     "text": [
      "I stepped on a corn flake,\n",
      "now I'm a\tcereal killer.\n"
     ]
    }
   ],
   "source": [
    "sentence = 'I stepped on a corn flake,\\nnow I\\'m a\\tcereal killer.'\n",
    "print(sentence)"
   ]
  },
  {
   "cell_type": "markdown",
   "metadata": {},
   "source": [
    "#### 2.3.4 - String operators:"
   ]
  },
  {
   "cell_type": "code",
   "execution_count": 18,
   "metadata": {},
   "outputs": [
    {
     "name": "stdout",
     "output_type": "stream",
     "text": [
      "Meow\n",
      "Cats are really really really really really awesome.\n"
     ]
    }
   ],
   "source": [
    "name = 'Meowingtons'\n",
    "print(name[:4])\n",
    "\n",
    "word ='really '\n",
    "print('Cats are ' + word*5 + 'awesome.')"
   ]
  },
  {
   "cell_type": "markdown",
   "metadata": {},
   "source": [
    "#### 2.3.5 - Raw strings:"
   ]
  },
  {
   "cell_type": "code",
   "execution_count": 19,
   "metadata": {},
   "outputs": [
    {
     "name": "stdout",
     "output_type": "stream",
     "text": [
      "C:\\Users\\17683068\\Pictures\\cat496.png\n"
     ]
    }
   ],
   "source": [
    "path = r'C:\\Users\\17683068\\Pictures\\cat496.png'\n",
    "print(path)"
   ]
  },
  {
   "cell_type": "markdown",
   "metadata": {},
   "source": [
    "<a id='2.4'></a>\n",
    "### 2.4 - Dictionaries:"
   ]
  },
  {
   "cell_type": "markdown",
   "metadata": {},
   "source": [
    "#### 2.4.1 - Dictionary methods:"
   ]
  },
  {
   "cell_type": "code",
   "execution_count": 20,
   "metadata": {},
   "outputs": [
    {
     "name": "stdout",
     "output_type": "stream",
     "text": [
      "Dictionary methods: ['__class__', '__contains__', '__delattr__', '__delitem__', '__dir__', '__doc__', '__eq__', '__format__', '__ge__', '__getattribute__', '__getitem__', '__gt__', '__hash__', '__init__', '__init_subclass__', '__iter__', '__le__', '__len__', '__lt__', '__ne__', '__new__', '__reduce__', '__reduce_ex__', '__repr__', '__setattr__', '__setitem__', '__sizeof__', '__str__', '__subclasshook__', 'clear', 'copy', 'fromkeys', 'get', 'items', 'keys', 'pop', 'popitem', 'setdefault', 'update', 'values']\n"
     ]
    }
   ],
   "source": [
    "print('Dictionary methods:', dir(dict))"
   ]
  },
  {
   "cell_type": "markdown",
   "metadata": {},
   "source": [
    "<a id='3'></a>\n",
    "## 3 - Control structures:"
   ]
  },
  {
   "cell_type": "markdown",
   "metadata": {},
   "source": [
    "<a id='3.1'></a>\n",
    "### 3.1 - If else:"
   ]
  },
  {
   "cell_type": "markdown",
   "metadata": {},
   "source": [
    "<a id='3.2'></a>\n",
    "### 3.2 - For loop:"
   ]
  },
  {
   "cell_type": "markdown",
   "metadata": {},
   "source": [
    "<a id='3.3'></a>\n",
    "### 3.3 - While loop:"
   ]
  },
  {
   "cell_type": "markdown",
   "metadata": {},
   "source": [
    "<a id='3.4'></a>\n",
    "### 3.4 - Loop control statements:"
   ]
  },
  {
   "cell_type": "markdown",
   "metadata": {},
   "source": [
    "<a id='3.5'></a>\n",
    "### 3.5 - Try except:"
   ]
  },
  {
   "cell_type": "markdown",
   "metadata": {},
   "source": [
    "<a id='4'></a>\n",
    "## 4 - Object-oriented programming:"
   ]
  },
  {
   "cell_type": "markdown",
   "metadata": {},
   "source": [
    "<a id='4.1'></a>\n",
    "### 4.1 - Functions:"
   ]
  },
  {
   "cell_type": "markdown",
   "metadata": {},
   "source": [
    "<a id='4.2'></a>\n",
    "### 4.2 - Classes:"
   ]
  },
  {
   "cell_type": "markdown",
   "metadata": {},
   "source": [
    "<a id='4.3'></a>\n",
    "### 4.3 - Methods:"
   ]
  },
  {
   "cell_type": "markdown",
   "metadata": {},
   "source": [
    "<a id='4.4'></a>\n",
    "### 4.4 - Modules:"
   ]
  },
  {
   "cell_type": "markdown",
   "metadata": {},
   "source": [
    "<a id='5'></a>\n",
    "## 5 - Online Resources:"
   ]
  },
  {
   "cell_type": "markdown",
   "metadata": {},
   "source": [
    "|Type|Name|Use |Link|\n",
    "|-|\n",
    "|Website|Python documentation|syntax|https://docs.python.org/3/ |\n",
    "|Website|TutorialsPoint|syntax|https://www.tutorialspoint.com/python/index.htm |\n",
    "|Website|StackOverflow|syntax, debugging|https://stackoverflow.com/questions/tagged/python |\n",
    "|Website|GitHub|open source code|https://github.com/ |\n",
    "|YouTube|thenewboston|tutorials|https://www.youtube.com/channel/UCJbPGzawDH1njbqV-D5HqKw |\n",
    "|YouTube|sendex|tutorials|https://www.youtube.com/user/sentdex |\n",
    "|Book|Python Crash Course|tutorials|http://ap-n.us/books/Programming/Python%20Crash%20Course.pdf|\n",
    "|Book|Automate the Boring Stuff with Python|tutorials|http://1.droppdf.com/files/5iHzx/automate-the-boring-stuff-with-python-2015-.pdf |"
   ]
  }
 ],
 "metadata": {
  "kernelspec": {
   "display_name": "Python 3",
   "language": "python",
   "name": "python3"
  },
  "language_info": {
   "codemirror_mode": {
    "name": "ipython",
    "version": 3
   },
   "file_extension": ".py",
   "mimetype": "text/x-python",
   "name": "python",
   "nbconvert_exporter": "python",
   "pygments_lexer": "ipython3",
   "version": "3.6.3"
  }
 },
 "nbformat": 4,
 "nbformat_minor": 1
}
